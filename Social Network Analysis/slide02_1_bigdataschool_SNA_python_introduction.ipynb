{
 "cells": [
  {
   "cell_type": "code",
   "execution_count": 5,
   "id": "c6166b62",
   "metadata": {},
   "outputs": [],
   "source": [
    "# دوره شبکه های پیچیده مدرسه علم داده - بابک تیمورپور\n",
    "# آشنایی با پایتون"
   ]
  },
  {
   "cell_type": "code",
   "execution_count": 1,
   "id": "c12c61c7",
   "metadata": {},
   "outputs": [
    {
     "name": "stdout",
     "output_type": "stream",
     "text": [
      "Hello\n"
     ]
    }
   ],
   "source": [
    "mystr = 'Hello'\n",
    "print(mystr)"
   ]
  },
  {
   "cell_type": "code",
   "execution_count": 2,
   "id": "e1765479",
   "metadata": {
    "scrolled": true
   },
   "outputs": [
    {
     "name": "stdout",
     "output_type": "stream",
     "text": [
      "<class 'int'>\n",
      "x*y 150\n",
      "True\n",
      "False\n",
      "35\n"
     ]
    },
    {
     "data": {
      "text/plain": [
       "35.0"
      ]
     },
     "execution_count": 2,
     "metadata": {},
     "output_type": "execute_result"
    }
   ],
   "source": [
    "x=25\n",
    "print(type(x))\n",
    "y=6\n",
    "print ('x*y',x*y)\n",
    "print(y<x)\n",
    "print(x==y)\n",
    "x+=10\n",
    "print(x)\n",
    "float(x)"
   ]
  },
  {
   "cell_type": "code",
   "execution_count": 2,
   "id": "6a8a3071",
   "metadata": {},
   "outputs": [
    {
     "name": "stdout",
     "output_type": "stream",
     "text": [
      "False\n"
     ]
    },
    {
     "data": {
      "text/plain": [
       "True"
      ]
     },
     "execution_count": 2,
     "metadata": {},
     "output_type": "execute_result"
    }
   ],
   "source": [
    "x=True\n",
    "print(x==False)\n",
    "print(x)"
   ]
  },
  {
   "cell_type": "code",
   "execution_count": 3,
   "id": "ec4b7f49",
   "metadata": {},
   "outputs": [
    {
     "name": "stdout",
     "output_type": "stream",
     "text": [
      "x is greater or equal than 2\n"
     ]
    }
   ],
   "source": [
    "x = 4\n",
    "\n",
    "if x < 1:\n",
    "    print('x is less than 1')\n",
    "elif x < 2:\n",
    "    print('x is less than 2')\n",
    "else:\n",
    "    print('x is greater or equal than 2')"
   ]
  },
  {
   "cell_type": "code",
   "execution_count": 6,
   "id": "470ce7ef",
   "metadata": {},
   "outputs": [
    {
     "name": "stdout",
     "output_type": "stream",
     "text": [
      "[1, 3, 'you']\n",
      "1\n",
      "[3, 'you']\n",
      "[1, 3, 'it']\n"
     ]
    }
   ],
   "source": [
    "# list لیستها تغییر پذیرند\n",
    "x=[1,3,'you']\n",
    "print(x)\n",
    "print(x[0])\n",
    "print(x[1:])\n",
    "x[2]='it'\n",
    "print(x)"
   ]
  },
  {
   "cell_type": "code",
   "execution_count": 7,
   "id": "ebf2c496",
   "metadata": {},
   "outputs": [
    {
     "ename": "TypeError",
     "evalue": "'tuple' object does not support item assignment",
     "output_type": "error",
     "traceback": [
      "\u001b[1;31m---------------------------------------------------------------------------\u001b[0m",
      "\u001b[1;31mTypeError\u001b[0m                                 Traceback (most recent call last)",
      "Cell \u001b[1;32mIn[7], line 3\u001b[0m\n\u001b[0;32m      1\u001b[0m \u001b[38;5;66;03m# tuple تغییر پذیر نیستند\u001b[39;00m\n\u001b[0;32m      2\u001b[0m x\u001b[38;5;241m=\u001b[39m(\u001b[38;5;241m1\u001b[39m,\u001b[38;5;241m3\u001b[39m,\u001b[38;5;124m'\u001b[39m\u001b[38;5;124myou\u001b[39m\u001b[38;5;124m'\u001b[39m)\n\u001b[1;32m----> 3\u001b[0m x[\u001b[38;5;241m2\u001b[39m]\u001b[38;5;241m=\u001b[39m\u001b[38;5;124m'\u001b[39m\u001b[38;5;124mme\u001b[39m\u001b[38;5;124m'\u001b[39m\n",
      "\u001b[1;31mTypeError\u001b[0m: 'tuple' object does not support item assignment"
     ]
    }
   ],
   "source": [
    "# tuple تغییر پذیر نیستند\n",
    "x=(1,3,'you')\n",
    "x[2]='me'"
   ]
  },
  {
   "cell_type": "code",
   "execution_count": 8,
   "id": "88671f35",
   "metadata": {},
   "outputs": [
    {
     "name": "stdout",
     "output_type": "stream",
     "text": [
      "c\n"
     ]
    }
   ],
   "source": [
    "#string رشته\n",
    "x='Social network'\n",
    "print(x[2])"
   ]
  },
  {
   "cell_type": "code",
   "execution_count": 9,
   "id": "ef9e5aa3",
   "metadata": {},
   "outputs": [
    {
     "name": "stdout",
     "output_type": "stream",
     "text": [
      "{2, 4}\n"
     ]
    }
   ],
   "source": [
    "# set  بدون ترتیب- مجموعه\n",
    "x={2,4,1}\n",
    "y={4,2,5}\n",
    "print(x.intersection(y))"
   ]
  },
  {
   "cell_type": "code",
   "execution_count": 24,
   "id": "1f02dc66",
   "metadata": {},
   "outputs": [
    {
     "data": {
      "text/plain": [
       "32"
      ]
     },
     "execution_count": 24,
     "metadata": {},
     "output_type": "execute_result"
    }
   ],
   "source": [
    "# dictionary\n",
    "x={'Man': 32, 'Woman': 27}\n",
    "print(x['Man'])"
   ]
  },
  {
   "cell_type": "code",
   "execution_count": 10,
   "id": "89c639a5",
   "metadata": {},
   "outputs": [
    {
     "name": "stdout",
     "output_type": "stream",
     "text": [
      "6\n"
     ]
    }
   ],
   "source": [
    "print(int(6.8))"
   ]
  },
  {
   "cell_type": "code",
   "execution_count": 36,
   "id": "2fa894b7",
   "metadata": {},
   "outputs": [
    {
     "data": {
      "text/plain": [
       "{'Man': 32, 'Woman': 27}"
      ]
     },
     "execution_count": 36,
     "metadata": {},
     "output_type": "execute_result"
    }
   ],
   "source": [
    "keys=['Man','Woman']\n",
    "vals=[32,27]\n",
    "dict(zip(keys,vals))"
   ]
  },
  {
   "cell_type": "code",
   "execution_count": 11,
   "id": "6620448e",
   "metadata": {},
   "outputs": [
    {
     "name": "stdout",
     "output_type": "stream",
     "text": [
      "5\n",
      "7\n"
     ]
    }
   ],
   "source": [
    "for x in range(5,9,2):\n",
    "    print(x)"
   ]
  },
  {
   "cell_type": "code",
   "execution_count": 12,
   "id": "7eace67a",
   "metadata": {},
   "outputs": [
    {
     "data": {
      "text/plain": [
       "30"
      ]
     },
     "execution_count": 12,
     "metadata": {},
     "output_type": "execute_result"
    }
   ],
   "source": [
    "# function\n",
    "def add10(x):\n",
    "    return(x+10)\n",
    "print(add10(20))"
   ]
  },
  {
   "cell_type": "code",
   "execution_count": 39,
   "id": "688cf2be",
   "metadata": {},
   "outputs": [
    {
     "data": {
      "text/plain": [
       "30"
      ]
     },
     "execution_count": 39,
     "metadata": {},
     "output_type": "execute_result"
    }
   ],
   "source": [
    "add10 = lambda x:x+10\n",
    "print(add10(20))"
   ]
  },
  {
   "cell_type": "code",
   "execution_count": 1,
   "id": "ff50d2f4",
   "metadata": {},
   "outputs": [
    {
     "name": "stdout",
     "output_type": "stream",
     "text": [
      "[3, 4, 5]\n"
     ]
    }
   ],
   "source": [
    "x=[5,3,4]\n",
    "x.sort()\n",
    "print(x)"
   ]
  },
  {
   "cell_type": "code",
   "execution_count": 2,
   "id": "c1746bd0",
   "metadata": {},
   "outputs": [
    {
     "name": "stdout",
     "output_type": "stream",
     "text": [
      "4.0\n",
      "0.816496580927726\n",
      "5\n"
     ]
    }
   ],
   "source": [
    "# package: C:\\ProgramData\\Anaconda3\\python.exe -m pip install numpy\n",
    "import numpy as np\n",
    "print(np.mean(x))\n",
    "print(np.std(x))\n",
    "print(np.max(x))"
   ]
  },
  {
   "cell_type": "code",
   "execution_count": 14,
   "id": "996f1e37",
   "metadata": {},
   "outputs": [
    {
     "name": "stdout",
     "output_type": "stream",
     "text": [
      "(0, 'man')\n",
      "(1, 'woman')\n",
      "(2, 'boy')\n",
      "[(2, 'man'), (3, 'woman'), (4, 'boy')]\n"
     ]
    }
   ],
   "source": [
    "# enumerate function\n",
    "x = [\"man\", \"woman\", \"boy\"]\n",
    "  \n",
    "for i in enumerate(x):\n",
    "    print(i)\n",
    "\n",
    "print (list(enumerate(x, 2)))"
   ]
  },
  {
   "cell_type": "code",
   "execution_count": null,
   "id": "285e89d1",
   "metadata": {},
   "outputs": [],
   "source": []
  }
 ],
 "metadata": {
  "kernelspec": {
   "display_name": "Python 3 (ipykernel)",
   "language": "python",
   "name": "python3"
  },
  "language_info": {
   "codemirror_mode": {
    "name": "ipython",
    "version": 3
   },
   "file_extension": ".py",
   "mimetype": "text/x-python",
   "name": "python",
   "nbconvert_exporter": "python",
   "pygments_lexer": "ipython3",
   "version": "3.10.9"
  }
 },
 "nbformat": 4,
 "nbformat_minor": 5
}
