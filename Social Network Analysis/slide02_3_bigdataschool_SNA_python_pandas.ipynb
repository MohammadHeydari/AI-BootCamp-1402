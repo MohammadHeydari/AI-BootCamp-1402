{
 "cells": [
  {
   "cell_type": "code",
   "execution_count": 2,
   "id": "9628f74b",
   "metadata": {},
   "outputs": [
    {
     "data": {
      "text/plain": [
       "a       1\n",
       "b       4\n",
       "c      25\n",
       "d    1681\n",
       "dtype: int64"
      ]
     },
     "execution_count": 2,
     "metadata": {},
     "output_type": "execute_result"
    }
   ],
   "source": [
    "import pandas as pd\n",
    "import numpy as np\n",
    "## Pandas Data Structures\n",
    "# Series\n",
    "s_serie = pd.Series([1, -2, 5, 41], index=['a', 'b', 'c', 'd'])\n",
    "# Arithmetic Operations\n",
    "s_serie.add(s_serie)\n",
    "s_serie.sub(s_serie)\n",
    "s_serie.div(s_serie)\n",
    "s_serie.mul(s_serie)"
   ]
  },
  {
   "cell_type": "code",
   "execution_count": 3,
   "id": "be1dab2a",
   "metadata": {},
   "outputs": [],
   "source": [
    "s_serie = pd.Series([2, 8, -1, 5], index=['one', 'two', 'three', 'four'])"
   ]
  },
  {
   "cell_type": "code",
   "execution_count": 4,
   "id": "992c3f5d",
   "metadata": {},
   "outputs": [
    {
     "data": {
      "text/plain": [
       "one      2\n",
       "two      8\n",
       "three   -1\n",
       "four     5\n",
       "dtype: int64"
      ]
     },
     "execution_count": 4,
     "metadata": {},
     "output_type": "execute_result"
    }
   ],
   "source": [
    "s_serie"
   ]
  },
  {
   "cell_type": "code",
   "execution_count": 5,
   "id": "23c84da6",
   "metadata": {},
   "outputs": [],
   "source": [
    "# DataFrame\n",
    "data = {'Country': ['Iran', 'Turkey', 'Italy'],\n",
    "  'Capital': ['Tehran', 'Ankara', 'Rome'],\n",
    "  'Area': [1648000, 783562, 301230]}\n",
    "country_df = pd.DataFrame(data,columns=['Country', 'Capital', 'Area'])"
   ]
  },
  {
   "cell_type": "code",
   "execution_count": 6,
   "id": "a3b9d07b",
   "metadata": {},
   "outputs": [
    {
     "data": {
      "text/html": [
       "<div>\n",
       "<style scoped>\n",
       "    .dataframe tbody tr th:only-of-type {\n",
       "        vertical-align: middle;\n",
       "    }\n",
       "\n",
       "    .dataframe tbody tr th {\n",
       "        vertical-align: top;\n",
       "    }\n",
       "\n",
       "    .dataframe thead th {\n",
       "        text-align: right;\n",
       "    }\n",
       "</style>\n",
       "<table border=\"1\" class=\"dataframe\">\n",
       "  <thead>\n",
       "    <tr style=\"text-align: right;\">\n",
       "      <th></th>\n",
       "      <th>Country</th>\n",
       "      <th>Capital</th>\n",
       "      <th>Area</th>\n",
       "    </tr>\n",
       "  </thead>\n",
       "  <tbody>\n",
       "    <tr>\n",
       "      <th>0</th>\n",
       "      <td>Iran</td>\n",
       "      <td>Tehran</td>\n",
       "      <td>1648000</td>\n",
       "    </tr>\n",
       "    <tr>\n",
       "      <th>1</th>\n",
       "      <td>Turkey</td>\n",
       "      <td>Ankara</td>\n",
       "      <td>783562</td>\n",
       "    </tr>\n",
       "    <tr>\n",
       "      <th>2</th>\n",
       "      <td>Italy</td>\n",
       "      <td>Rome</td>\n",
       "      <td>301230</td>\n",
       "    </tr>\n",
       "  </tbody>\n",
       "</table>\n",
       "</div>"
      ],
      "text/plain": [
       "  Country Capital     Area\n",
       "0    Iran  Tehran  1648000\n",
       "1  Turkey  Ankara   783562\n",
       "2   Italy    Rome   301230"
      ]
     },
     "execution_count": 6,
     "metadata": {},
     "output_type": "execute_result"
    }
   ],
   "source": [
    "country_df"
   ]
  },
  {
   "cell_type": "code",
   "execution_count": 7,
   "id": "fdf6c52f",
   "metadata": {
    "scrolled": true
   },
   "outputs": [
    {
     "data": {
      "text/html": [
       "<div>\n",
       "<style scoped>\n",
       "    .dataframe tbody tr th:only-of-type {\n",
       "        vertical-align: middle;\n",
       "    }\n",
       "\n",
       "    .dataframe tbody tr th {\n",
       "        vertical-align: top;\n",
       "    }\n",
       "\n",
       "    .dataframe thead th {\n",
       "        text-align: right;\n",
       "    }\n",
       "</style>\n",
       "<table border=\"1\" class=\"dataframe\">\n",
       "  <thead>\n",
       "    <tr style=\"text-align: right;\">\n",
       "      <th></th>\n",
       "      <th>Country</th>\n",
       "      <th>Capital</th>\n",
       "      <th>Area</th>\n",
       "    </tr>\n",
       "  </thead>\n",
       "  <tbody>\n",
       "    <tr>\n",
       "      <th>0</th>\n",
       "      <td>Iran</td>\n",
       "      <td>Tehran</td>\n",
       "      <td>1648000</td>\n",
       "    </tr>\n",
       "    <tr>\n",
       "      <th>1</th>\n",
       "      <td>Turkey</td>\n",
       "      <td>Ankara</td>\n",
       "      <td>783562</td>\n",
       "    </tr>\n",
       "    <tr>\n",
       "      <th>2</th>\n",
       "      <td>Italy</td>\n",
       "      <td>Rome</td>\n",
       "      <td>301230</td>\n",
       "    </tr>\n",
       "  </tbody>\n",
       "</table>\n",
       "</div>"
      ],
      "text/plain": [
       "  Country Capital     Area\n",
       "0    Iran  Tehran  1648000\n",
       "1  Turkey  Ankara   783562\n",
       "2   Italy    Rome   301230"
      ]
     },
     "execution_count": 7,
     "metadata": {},
     "output_type": "execute_result"
    }
   ],
   "source": [
    "## I/O\n",
    "# Read and Write to CSV\n",
    "country_df.to_csv('country_df.csv', sep=',', encoding='utf-8-sig', index=False)\n",
    "country_df.to_csv('country_df.txt', sep='\\t', encoding='utf-8-sig', index=False)\n",
    "pd.read_csv('country_df.csv', encoding='utf-8-sig')\n",
    "pd.read_csv('country_df.csv', encoding='utf-8-sig', header=None, nrows=2)\n",
    "pd.read_csv('country_df.txt', encoding='utf-8-sig', sep='\\t')"
   ]
  },
  {
   "cell_type": "code",
   "execution_count": 8,
   "id": "0b6f8bdb",
   "metadata": {},
   "outputs": [
    {
     "data": {
      "text/html": [
       "<div>\n",
       "<style scoped>\n",
       "    .dataframe tbody tr th:only-of-type {\n",
       "        vertical-align: middle;\n",
       "    }\n",
       "\n",
       "    .dataframe tbody tr th {\n",
       "        vertical-align: top;\n",
       "    }\n",
       "\n",
       "    .dataframe thead th {\n",
       "        text-align: right;\n",
       "    }\n",
       "</style>\n",
       "<table border=\"1\" class=\"dataframe\">\n",
       "  <thead>\n",
       "    <tr style=\"text-align: right;\">\n",
       "      <th></th>\n",
       "      <th>Country</th>\n",
       "      <th>Capital</th>\n",
       "      <th>Area</th>\n",
       "    </tr>\n",
       "  </thead>\n",
       "  <tbody>\n",
       "    <tr>\n",
       "      <th>0</th>\n",
       "      <td>Iran</td>\n",
       "      <td>Tehran</td>\n",
       "      <td>1648000</td>\n",
       "    </tr>\n",
       "    <tr>\n",
       "      <th>1</th>\n",
       "      <td>Turkey</td>\n",
       "      <td>Ankara</td>\n",
       "      <td>783562</td>\n",
       "    </tr>\n",
       "    <tr>\n",
       "      <th>2</th>\n",
       "      <td>Italy</td>\n",
       "      <td>Rome</td>\n",
       "      <td>301230</td>\n",
       "    </tr>\n",
       "  </tbody>\n",
       "</table>\n",
       "</div>"
      ],
      "text/plain": [
       "  Country Capital     Area\n",
       "0    Iran  Tehran  1648000\n",
       "1  Turkey  Ankara   783562\n",
       "2   Italy    Rome   301230"
      ]
     },
     "execution_count": 8,
     "metadata": {},
     "output_type": "execute_result"
    }
   ],
   "source": [
    "# Read and Write to Excel\n",
    "country_df.to_excel('country_df.xlsx', sheet_name='Sheet1', index=False)\n",
    "pd.read_excel('country_df.xlsx', 'Sheet1')"
   ]
  },
  {
   "cell_type": "code",
   "execution_count": 9,
   "id": "a8839604",
   "metadata": {},
   "outputs": [
    {
     "data": {
      "text/html": [
       "<div>\n",
       "<style scoped>\n",
       "    .dataframe tbody tr th:only-of-type {\n",
       "        vertical-align: middle;\n",
       "    }\n",
       "\n",
       "    .dataframe tbody tr th {\n",
       "        vertical-align: top;\n",
       "    }\n",
       "\n",
       "    .dataframe thead th {\n",
       "        text-align: right;\n",
       "    }\n",
       "</style>\n",
       "<table border=\"1\" class=\"dataframe\">\n",
       "  <thead>\n",
       "    <tr style=\"text-align: right;\">\n",
       "      <th></th>\n",
       "      <th>index</th>\n",
       "      <th>Country</th>\n",
       "      <th>Capital</th>\n",
       "      <th>Area</th>\n",
       "    </tr>\n",
       "  </thead>\n",
       "  <tbody>\n",
       "    <tr>\n",
       "      <th>0</th>\n",
       "      <td>0</td>\n",
       "      <td>Iran</td>\n",
       "      <td>Tehran</td>\n",
       "      <td>1648000</td>\n",
       "    </tr>\n",
       "    <tr>\n",
       "      <th>1</th>\n",
       "      <td>1</td>\n",
       "      <td>Turkey</td>\n",
       "      <td>Ankara</td>\n",
       "      <td>783562</td>\n",
       "    </tr>\n",
       "    <tr>\n",
       "      <th>2</th>\n",
       "      <td>2</td>\n",
       "      <td>Italy</td>\n",
       "      <td>Rome</td>\n",
       "      <td>301230</td>\n",
       "    </tr>\n",
       "  </tbody>\n",
       "</table>\n",
       "</div>"
      ],
      "text/plain": [
       "   index Country Capital     Area\n",
       "0      0    Iran  Tehran  1648000\n",
       "1      1  Turkey  Ankara   783562\n",
       "2      2   Italy    Rome   301230"
      ]
     },
     "execution_count": 9,
     "metadata": {},
     "output_type": "execute_result"
    }
   ],
   "source": [
    "# Read and Write to SQL Query or Database Table\n",
    "from sqlalchemy import create_engine\n",
    "engine = create_engine('sqlite:///:memory:')\n",
    "country_df.to_sql('myTable', engine)\n",
    "pd.read_sql_table('myTable', engine)\n",
    "pd.read_sql_query(\"SELECT * FROM myTable;\", engine)\n",
    "pd.read_sql(\"SELECT * FROM myTable;\", engine) #read_sql()is a convenience wrapper around read_sql_table() and read_sql_query()"
   ]
  },
  {
   "cell_type": "code",
   "execution_count": 10,
   "id": "e5dffea2",
   "metadata": {},
   "outputs": [],
   "source": [
    "## Asking For Help\n",
    "#help(pd.Series.loc) #Access a group of rows and columns by label(s) or a boolean array."
   ]
  },
  {
   "cell_type": "code",
   "execution_count": 11,
   "id": "ccbd6758",
   "metadata": {},
   "outputs": [
    {
     "data": {
      "text/html": [
       "<div>\n",
       "<style scoped>\n",
       "    .dataframe tbody tr th:only-of-type {\n",
       "        vertical-align: middle;\n",
       "    }\n",
       "\n",
       "    .dataframe tbody tr th {\n",
       "        vertical-align: top;\n",
       "    }\n",
       "\n",
       "    .dataframe thead th {\n",
       "        text-align: right;\n",
       "    }\n",
       "</style>\n",
       "<table border=\"1\" class=\"dataframe\">\n",
       "  <thead>\n",
       "    <tr style=\"text-align: right;\">\n",
       "      <th></th>\n",
       "      <th>Country</th>\n",
       "      <th>Capital</th>\n",
       "      <th>Area</th>\n",
       "    </tr>\n",
       "  </thead>\n",
       "  <tbody>\n",
       "    <tr>\n",
       "      <th>1</th>\n",
       "      <td>Turkey</td>\n",
       "      <td>Ankara</td>\n",
       "      <td>783562</td>\n",
       "    </tr>\n",
       "    <tr>\n",
       "      <th>2</th>\n",
       "      <td>Italy</td>\n",
       "      <td>Rome</td>\n",
       "      <td>301230</td>\n",
       "    </tr>\n",
       "  </tbody>\n",
       "</table>\n",
       "</div>"
      ],
      "text/plain": [
       "  Country Capital    Area\n",
       "1  Turkey  Ankara  783562\n",
       "2   Italy    Rome  301230"
      ]
     },
     "execution_count": 11,
     "metadata": {},
     "output_type": "execute_result"
    }
   ],
   "source": [
    "## Selection: Also see NumPy Arrays\n",
    "# Getting\n",
    "s_serie['two'] # Get one element\n",
    "country_df[1:]"
   ]
  },
  {
   "cell_type": "code",
   "execution_count": 12,
   "id": "bbe64aa0",
   "metadata": {},
   "outputs": [],
   "source": [
    "# Selecting, Boolean Indexing & Setting\n",
    "#By Position\n",
    "country_df.iloc[:,0:2] # Select single value by row & column\n",
    "country_df.iat[0,2]=country_df.iat[0,2]+1-1 # Select single value by row & column"
   ]
  },
  {
   "cell_type": "code",
   "execution_count": 13,
   "id": "762722fb",
   "metadata": {},
   "outputs": [
    {
     "data": {
      "text/plain": [
       "'Iran'"
      ]
     },
     "execution_count": 13,
     "metadata": {},
     "output_type": "execute_result"
    }
   ],
   "source": [
    "#By Label\n",
    "country_df.loc[0, 'Country'] # Select single value by row & column labels or boolean\n",
    "country_df.at[0, 'Country']"
   ]
  },
  {
   "cell_type": "code",
   "execution_count": 14,
   "id": "c5d2ae4b",
   "metadata": {},
   "outputs": [
    {
     "data": {
      "text/html": [
       "<div>\n",
       "<style scoped>\n",
       "    .dataframe tbody tr th:only-of-type {\n",
       "        vertical-align: middle;\n",
       "    }\n",
       "\n",
       "    .dataframe tbody tr th {\n",
       "        vertical-align: top;\n",
       "    }\n",
       "\n",
       "    .dataframe thead th {\n",
       "        text-align: right;\n",
       "    }\n",
       "</style>\n",
       "<table border=\"1\" class=\"dataframe\">\n",
       "  <thead>\n",
       "    <tr style=\"text-align: right;\">\n",
       "      <th></th>\n",
       "      <th>Country</th>\n",
       "      <th>Capital</th>\n",
       "      <th>Area</th>\n",
       "    </tr>\n",
       "  </thead>\n",
       "  <tbody>\n",
       "    <tr>\n",
       "      <th>0</th>\n",
       "      <td>Iran</td>\n",
       "      <td>Tehran</td>\n",
       "      <td>1648000</td>\n",
       "    </tr>\n",
       "    <tr>\n",
       "      <th>1</th>\n",
       "      <td>Turkey</td>\n",
       "      <td>Ankara</td>\n",
       "      <td>783562</td>\n",
       "    </tr>\n",
       "  </tbody>\n",
       "</table>\n",
       "</div>"
      ],
      "text/plain": [
       "  Country Capital     Area\n",
       "0    Iran  Tehran  1648000\n",
       "1  Turkey  Ankara   783562"
      ]
     },
     "execution_count": 14,
     "metadata": {},
     "output_type": "execute_result"
    }
   ],
   "source": [
    "#Boolean Indexing\n",
    "s_serie[~(s_serie > 1)] # Series s where value is not >1\n",
    "s_serie[(s_serie < -1) | (s_serie > 2)] # s where value is <-1 or >2\n",
    "country_df[country_df['Area']>700000] # Use filter to adjust DataFrame"
   ]
  },
  {
   "cell_type": "code",
   "execution_count": 15,
   "id": "17f1a923",
   "metadata": {},
   "outputs": [
    {
     "data": {
      "text/plain": [
       "one      2\n",
       "three   -1\n",
       "dtype: int64"
      ]
     },
     "execution_count": 15,
     "metadata": {},
     "output_type": "execute_result"
    }
   ],
   "source": [
    "s_serie[~(s_serie > 4)]"
   ]
  },
  {
   "cell_type": "code",
   "execution_count": 16,
   "id": "95395765",
   "metadata": {},
   "outputs": [],
   "source": [
    "#Setting\n",
    "s_serie['one'] = 6 # Set index a of Series s to 6"
   ]
  },
  {
   "cell_type": "code",
   "execution_count": 17,
   "id": "5c4722ce",
   "metadata": {},
   "outputs": [
    {
     "data": {
      "text/plain": [
       "one      6\n",
       "two      8\n",
       "three   -1\n",
       "four     5\n",
       "dtype: int64"
      ]
     },
     "execution_count": 17,
     "metadata": {},
     "output_type": "execute_result"
    }
   ],
   "source": [
    "s_serie"
   ]
  },
  {
   "cell_type": "code",
   "execution_count": 18,
   "id": "ff724c40",
   "metadata": {},
   "outputs": [
    {
     "data": {
      "text/html": [
       "<div>\n",
       "<style scoped>\n",
       "    .dataframe tbody tr th:only-of-type {\n",
       "        vertical-align: middle;\n",
       "    }\n",
       "\n",
       "    .dataframe tbody tr th {\n",
       "        vertical-align: top;\n",
       "    }\n",
       "\n",
       "    .dataframe thead th {\n",
       "        text-align: right;\n",
       "    }\n",
       "</style>\n",
       "<table border=\"1\" class=\"dataframe\">\n",
       "  <thead>\n",
       "    <tr style=\"text-align: right;\">\n",
       "      <th></th>\n",
       "      <th>Capital</th>\n",
       "      <th>Area</th>\n",
       "    </tr>\n",
       "  </thead>\n",
       "  <tbody>\n",
       "    <tr>\n",
       "      <th>0</th>\n",
       "      <td>Tehran</td>\n",
       "      <td>1648000</td>\n",
       "    </tr>\n",
       "    <tr>\n",
       "      <th>1</th>\n",
       "      <td>Ankara</td>\n",
       "      <td>783562</td>\n",
       "    </tr>\n",
       "    <tr>\n",
       "      <th>2</th>\n",
       "      <td>Rome</td>\n",
       "      <td>301230</td>\n",
       "    </tr>\n",
       "  </tbody>\n",
       "</table>\n",
       "</div>"
      ],
      "text/plain": [
       "  Capital     Area\n",
       "0  Tehran  1648000\n",
       "1  Ankara   783562\n",
       "2    Rome   301230"
      ]
     },
     "execution_count": 18,
     "metadata": {},
     "output_type": "execute_result"
    }
   ],
   "source": [
    "## Dropping\n",
    "s_serie.drop(['one', 'three']) # Drop values from rows (axis=0)\n",
    "country_df.drop('Country', axis=1) # Drop values from columns(axis=1)"
   ]
  },
  {
   "cell_type": "code",
   "execution_count": 35,
   "id": "8a6340c3",
   "metadata": {},
   "outputs": [
    {
     "name": "stdout",
     "output_type": "stream",
     "text": [
      "  Country Capital     Area\n",
      "0    Iran  Tehran  1648000\n",
      "1  Turkey  Ankara   783562\n",
      "2   Italy    Rome   301230\n",
      "  Country Capital     Area\n",
      "0    Iran  Tehran  1648000\n",
      "2   Italy    Rome   301230\n",
      "1  Turkey  Ankara   783562\n",
      "   Country  Capital  Area\n",
      "0      1.0      3.0   3.0\n",
      "1      3.0      1.0   2.0\n",
      "2      2.0      2.0   1.0\n"
     ]
    }
   ],
   "source": [
    "## Sort & Rank\n",
    "print(country_df.sort_index()) # Sort by labels along an axis\n",
    "print(country_df.sort_values(by='Country')) # Sort by the values along an axis\n",
    "print(country_df.rank()) # Assign ranks to entries"
   ]
  },
  {
   "cell_type": "code",
   "execution_count": 36,
   "id": "5ca316f6",
   "metadata": {},
   "outputs": [
    {
     "data": {
      "text/html": [
       "<div>\n",
       "<style scoped>\n",
       "    .dataframe tbody tr th:only-of-type {\n",
       "        vertical-align: middle;\n",
       "    }\n",
       "\n",
       "    .dataframe tbody tr th {\n",
       "        vertical-align: top;\n",
       "    }\n",
       "\n",
       "    .dataframe thead th {\n",
       "        text-align: right;\n",
       "    }\n",
       "</style>\n",
       "<table border=\"1\" class=\"dataframe\">\n",
       "  <thead>\n",
       "    <tr style=\"text-align: right;\">\n",
       "      <th></th>\n",
       "      <th>Country</th>\n",
       "      <th>Capital</th>\n",
       "      <th>Area</th>\n",
       "    </tr>\n",
       "  </thead>\n",
       "  <tbody>\n",
       "    <tr>\n",
       "      <th>0</th>\n",
       "      <td>Iran</td>\n",
       "      <td>Tehran</td>\n",
       "      <td>1648000</td>\n",
       "    </tr>\n",
       "    <tr>\n",
       "      <th>1</th>\n",
       "      <td>Turkey</td>\n",
       "      <td>Ankara</td>\n",
       "      <td>783562</td>\n",
       "    </tr>\n",
       "    <tr>\n",
       "      <th>2</th>\n",
       "      <td>Italy</td>\n",
       "      <td>Rome</td>\n",
       "      <td>301230</td>\n",
       "    </tr>\n",
       "  </tbody>\n",
       "</table>\n",
       "</div>"
      ],
      "text/plain": [
       "  Country Capital     Area\n",
       "0    Iran  Tehran  1648000\n",
       "1  Turkey  Ankara   783562\n",
       "2   Italy    Rome   301230"
      ]
     },
     "execution_count": 36,
     "metadata": {},
     "output_type": "execute_result"
    }
   ],
   "source": [
    "country_df"
   ]
  },
  {
   "cell_type": "code",
   "execution_count": 37,
   "id": "b9056d42",
   "metadata": {},
   "outputs": [
    {
     "name": "stdout",
     "output_type": "stream",
     "text": [
      "Index(['Country', 'Capital', 'Area'], dtype='object')\n",
      "<class 'pandas.core.frame.DataFrame'>\n",
      "RangeIndex: 3 entries, 0 to 2\n",
      "Data columns (total 3 columns):\n",
      " #   Column   Non-Null Count  Dtype \n",
      "---  ------   --------------  ----- \n",
      " 0   Country  3 non-null      object\n",
      " 1   Capital  3 non-null      object\n",
      " 2   Area     3 non-null      int64 \n",
      "dtypes: int64(1), object(2)\n",
      "memory usage: 200.0+ bytes\n"
     ]
    },
    {
     "data": {
      "text/plain": [
       "Country    3\n",
       "Capital    3\n",
       "Area       3\n",
       "dtype: int64"
      ]
     },
     "execution_count": 37,
     "metadata": {},
     "output_type": "execute_result"
    }
   ],
   "source": [
    "## Retrieving Series/DataFrame Information\n",
    "# Basic Information\n",
    "country_df.shape #(rows,columns)\n",
    "country_df.index # Describe index\n",
    "print(country_df.columns) # Describe DataFrame columns\n",
    "country_df.info() # Info on DataFrame\n",
    "country_df.count() # Number of non-NA values"
   ]
  },
  {
   "cell_type": "code",
   "execution_count": 38,
   "id": "284247ea",
   "metadata": {},
   "outputs": [
    {
     "data": {
      "text/plain": [
       "Country    3\n",
       "Capital    3\n",
       "Area       3\n",
       "dtype: int64"
      ]
     },
     "execution_count": 38,
     "metadata": {},
     "output_type": "execute_result"
    }
   ],
   "source": [
    "country_df.count() # Number of non-NA values"
   ]
  },
  {
   "cell_type": "code",
   "execution_count": 23,
   "id": "b75037ea",
   "metadata": {},
   "outputs": [
    {
     "data": {
      "text/plain": [
       "783562.0"
      ]
     },
     "execution_count": 23,
     "metadata": {},
     "output_type": "execute_result"
    }
   ],
   "source": [
    "# Summary\n",
    "country_df.sum() # Sum of values\n",
    "country_df.cumsum() # Cummulative sum of values\n",
    "country_df.min() # Minimum/maximum values\n",
    "country_df.describe() # Summary statistics\n",
    "country_df['Area'].mean() # Mean of values\n",
    "country_df['Area'].median() # Median of values"
   ]
  },
  {
   "cell_type": "code",
   "execution_count": 24,
   "id": "23edead9",
   "metadata": {},
   "outputs": [
    {
     "data": {
      "text/html": [
       "<div>\n",
       "<style scoped>\n",
       "    .dataframe tbody tr th:only-of-type {\n",
       "        vertical-align: middle;\n",
       "    }\n",
       "\n",
       "    .dataframe tbody tr th {\n",
       "        vertical-align: top;\n",
       "    }\n",
       "\n",
       "    .dataframe thead th {\n",
       "        text-align: right;\n",
       "    }\n",
       "</style>\n",
       "<table border=\"1\" class=\"dataframe\">\n",
       "  <thead>\n",
       "    <tr style=\"text-align: right;\">\n",
       "      <th></th>\n",
       "      <th>Area</th>\n",
       "    </tr>\n",
       "  </thead>\n",
       "  <tbody>\n",
       "    <tr>\n",
       "      <th>count</th>\n",
       "      <td>3.000000e+00</td>\n",
       "    </tr>\n",
       "    <tr>\n",
       "      <th>mean</th>\n",
       "      <td>9.109307e+05</td>\n",
       "    </tr>\n",
       "    <tr>\n",
       "      <th>std</th>\n",
       "      <td>6.823595e+05</td>\n",
       "    </tr>\n",
       "    <tr>\n",
       "      <th>min</th>\n",
       "      <td>3.012300e+05</td>\n",
       "    </tr>\n",
       "    <tr>\n",
       "      <th>25%</th>\n",
       "      <td>5.423960e+05</td>\n",
       "    </tr>\n",
       "    <tr>\n",
       "      <th>50%</th>\n",
       "      <td>7.835620e+05</td>\n",
       "    </tr>\n",
       "    <tr>\n",
       "      <th>75%</th>\n",
       "      <td>1.215781e+06</td>\n",
       "    </tr>\n",
       "    <tr>\n",
       "      <th>max</th>\n",
       "      <td>1.648000e+06</td>\n",
       "    </tr>\n",
       "  </tbody>\n",
       "</table>\n",
       "</div>"
      ],
      "text/plain": [
       "               Area\n",
       "count  3.000000e+00\n",
       "mean   9.109307e+05\n",
       "std    6.823595e+05\n",
       "min    3.012300e+05\n",
       "25%    5.423960e+05\n",
       "50%    7.835620e+05\n",
       "75%    1.215781e+06\n",
       "max    1.648000e+06"
      ]
     },
     "execution_count": 24,
     "metadata": {},
     "output_type": "execute_result"
    }
   ],
   "source": [
    "country_df.describe()"
   ]
  },
  {
   "cell_type": "code",
   "execution_count": 39,
   "id": "35fd0f2b",
   "metadata": {},
   "outputs": [
    {
     "name": "stdout",
     "output_type": "stream",
     "text": [
      "        Country       Capital     Area\n",
      "0      IranIran  TehranTehran  3296000\n",
      "1  TurkeyTurkey  AnkaraAnkara  1567124\n",
      "2    ItalyItaly      RomeRome   602460\n",
      "                   1         2         3         4\n",
      "Newyork     0.148263 -0.416139  0.407488  0.323748\n",
      "Tehran      0.006799  0.860009  2.272987  0.139109\n",
      "Washington  0.782918 -1.386636 -0.458309  0.877210\n",
      "1    0.776119\n",
      "2    2.246645\n",
      "3    2.731296\n",
      "4    0.738101\n",
      "dtype: float64\n",
      "Newyork       0.823627\n",
      "Tehran        2.266188\n",
      "Washington    2.263846\n",
      "dtype: float64\n"
     ]
    }
   ],
   "source": [
    "## Applying Functions\n",
    "power = lambda x: x*2\n",
    "print(country_df.applymap(power)) # Apply function element-wise\n",
    "city_df = pd.DataFrame(np.random.randn(3, 4), columns=list('1234'), index=['Newyork', 'Tehran', 'Washington'])\n",
    "print(city_df)\n",
    "diff = lambda x: x.max() - x.min()\n",
    "print(city_df.apply(diff))\n",
    "print(city_df.apply(diff,axis=1))"
   ]
  },
  {
   "cell_type": "code",
   "execution_count": 40,
   "id": "4a31f20c",
   "metadata": {},
   "outputs": [
    {
     "data": {
      "text/plain": [
       "1    0.776119\n",
       "2    2.246645\n",
       "3    2.731296\n",
       "4    0.738101\n",
       "dtype: float64"
      ]
     },
     "execution_count": 40,
     "metadata": {},
     "output_type": "execute_result"
    }
   ],
   "source": [
    "city_df.apply(diff)"
   ]
  },
  {
   "cell_type": "code",
   "execution_count": 42,
   "id": "8def6eb7",
   "metadata": {},
   "outputs": [
    {
     "name": "stdout",
     "output_type": "stream",
     "text": [
      "one      False\n",
      "two       True\n",
      "three    False\n",
      "four     False\n",
      "dtype: bool\n"
     ]
    },
    {
     "data": {
      "text/plain": [
       "one      6.000000\n",
       "two      3.333333\n",
       "three   -1.000000\n",
       "four     5.000000\n",
       "dtype: float64"
      ]
     },
     "execution_count": 42,
     "metadata": {},
     "output_type": "execute_result"
    }
   ],
   "source": [
    "## Missing Values\n",
    "s_serie.loc['two']=None\n",
    "print(s_serie.isnull())\n",
    "s_serie.dropna()\n",
    "s_serie.fillna(s_serie.dropna().mean())"
   ]
  },
  {
   "cell_type": "code",
   "execution_count": 43,
   "id": "17c5445e",
   "metadata": {},
   "outputs": [
    {
     "data": {
      "text/plain": [
       "one      6.0\n",
       "two      NaN\n",
       "three   -1.0\n",
       "four     5.0\n",
       "dtype: float64"
      ]
     },
     "execution_count": 43,
     "metadata": {},
     "output_type": "execute_result"
    }
   ],
   "source": [
    "s_serie"
   ]
  },
  {
   "cell_type": "code",
   "execution_count": 44,
   "id": "d6b139e2",
   "metadata": {},
   "outputs": [
    {
     "data": {
      "text/plain": [
       "one      6.000000\n",
       "two      3.333333\n",
       "three   -1.000000\n",
       "four     5.000000\n",
       "dtype: float64"
      ]
     },
     "execution_count": 44,
     "metadata": {},
     "output_type": "execute_result"
    }
   ],
   "source": [
    "s_serie.fillna(s_serie.dropna().mean())"
   ]
  },
  {
   "cell_type": "code",
   "execution_count": 45,
   "id": "02978d66",
   "metadata": {},
   "outputs": [
    {
     "data": {
      "text/plain": [
       "one      6.0\n",
       "three   -1.0\n",
       "four     5.0\n",
       "dtype: float64"
      ]
     },
     "execution_count": 45,
     "metadata": {},
     "output_type": "execute_result"
    }
   ],
   "source": [
    "s_serie.dropna()"
   ]
  },
  {
   "cell_type": "code",
   "execution_count": null,
   "id": "21f46b2b",
   "metadata": {},
   "outputs": [],
   "source": []
  }
 ],
 "metadata": {
  "kernelspec": {
   "display_name": "Python 3 (ipykernel)",
   "language": "python",
   "name": "python3"
  },
  "language_info": {
   "codemirror_mode": {
    "name": "ipython",
    "version": 3
   },
   "file_extension": ".py",
   "mimetype": "text/x-python",
   "name": "python",
   "nbconvert_exporter": "python",
   "pygments_lexer": "ipython3",
   "version": "3.10.9"
  }
 },
 "nbformat": 4,
 "nbformat_minor": 5
}
