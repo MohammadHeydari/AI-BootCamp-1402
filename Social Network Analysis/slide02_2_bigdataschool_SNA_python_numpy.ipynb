{
 "cells": [
  {
   "cell_type": "code",
   "execution_count": 3,
   "id": "675e91fc",
   "metadata": {},
   "outputs": [
    {
     "name": "stdout",
     "output_type": "stream",
     "text": [
      "[[2.3 1.  4. ]\n",
      " [3.  2.  7. ]]\n"
     ]
    }
   ],
   "source": [
    "## Creating Arrays\n",
    "import numpy as np\n",
    "array_1 = np.array([5,1,2])\n",
    "array_2 = np.array([(2.3,1,4), (3,2,7)], dtype = float)\n",
    "array_3 = np.array([1,3,5], dtype = float)\n",
    "print(array_2)"
   ]
  },
  {
   "cell_type": "markdown",
   "id": "1cd12081",
   "metadata": {},
   "source": [
    "#### Initial Placeholders"
   ]
  },
  {
   "cell_type": "code",
   "execution_count": 4,
   "id": "069187c6",
   "metadata": {},
   "outputs": [
    {
     "data": {
      "text/plain": [
       "array([[0., 0., 0.],\n",
       "       [0., 0., 0.]])"
      ]
     },
     "execution_count": 4,
     "metadata": {},
     "output_type": "execute_result"
    }
   ],
   "source": [
    "np.zeros((2,3)) # Create an array of zeros"
   ]
  },
  {
   "cell_type": "code",
   "execution_count": 5,
   "id": "ed9c9123",
   "metadata": {},
   "outputs": [
    {
     "data": {
      "text/plain": [
       "array([[1, 1, 1],\n",
       "       [1, 1, 1]], dtype=int16)"
      ]
     },
     "execution_count": 5,
     "metadata": {},
     "output_type": "execute_result"
    }
   ],
   "source": [
    "np.ones((2,3),dtype=np.int16) # Create an array of ones"
   ]
  },
  {
   "cell_type": "code",
   "execution_count": 6,
   "id": "3a3be529",
   "metadata": {},
   "outputs": [
    {
     "data": {
      "text/plain": [
       "array([15, 19, 23, 27, 31])"
      ]
     },
     "execution_count": 6,
     "metadata": {},
     "output_type": "execute_result"
    }
   ],
   "source": [
    "np.arange(15,33,4) # Create an array of evenly spaced values (step value)"
   ]
  },
  {
   "cell_type": "code",
   "execution_count": 7,
   "id": "e8bfb951",
   "metadata": {},
   "outputs": [
    {
     "data": {
      "text/plain": [
       "array([0. , 0.5, 1. , 1.5, 2. , 2.5, 3. , 3.5, 4. ])"
      ]
     },
     "execution_count": 7,
     "metadata": {},
     "output_type": "execute_result"
    }
   ],
   "source": [
    "np.linspace(0,4,9) # Create an array of evenly spaced values (number of samples)"
   ]
  },
  {
   "cell_type": "code",
   "execution_count": 8,
   "id": "0f263676",
   "metadata": {},
   "outputs": [
    {
     "data": {
      "text/plain": [
       "array([[5, 5, 5, 5],\n",
       "       [5, 5, 5, 5],\n",
       "       [5, 5, 5, 5]])"
      ]
     },
     "execution_count": 8,
     "metadata": {},
     "output_type": "execute_result"
    }
   ],
   "source": [
    "np.full((3,4),5) # Create a constant array"
   ]
  },
  {
   "cell_type": "code",
   "execution_count": 9,
   "id": "0bd2c466",
   "metadata": {},
   "outputs": [
    {
     "data": {
      "text/plain": [
       "array([[1., 0., 0., 0.],\n",
       "       [0., 1., 0., 0.],\n",
       "       [0., 0., 1., 0.],\n",
       "       [0., 0., 0., 1.]])"
      ]
     },
     "execution_count": 9,
     "metadata": {},
     "output_type": "execute_result"
    }
   ],
   "source": [
    "np.eye(4) # Create a 4X4 identity matrix"
   ]
  },
  {
   "cell_type": "code",
   "execution_count": 10,
   "id": "783d88da",
   "metadata": {},
   "outputs": [
    {
     "data": {
      "text/plain": [
       "array([[0.74422529, 0.62179862, 0.74585988, 0.86113047],\n",
       "       [0.78248616, 0.43511154, 0.214791  , 0.83289161],\n",
       "       [0.48616351, 0.44493628, 0.11512202, 0.87083979]])"
      ]
     },
     "execution_count": 10,
     "metadata": {},
     "output_type": "execute_result"
    }
   ],
   "source": [
    "np.random.random((3,4)) # Create an array with random values"
   ]
  },
  {
   "cell_type": "markdown",
   "id": "2a273d7c",
   "metadata": {},
   "source": [
    "#### Saving & Loading On Disk"
   ]
  },
  {
   "cell_type": "code",
   "execution_count": 11,
   "id": "89a37957",
   "metadata": {},
   "outputs": [
    {
     "data": {
      "text/plain": [
       "array([[2.3, 1. , 4. ],\n",
       "       [3. , 2. , 7. ]])"
      ]
     },
     "execution_count": 11,
     "metadata": {},
     "output_type": "execute_result"
    }
   ],
   "source": [
    "## IO\n",
    "import os\n",
    "os.getcwd()\n",
    "np.save('my_array', array_1)\n",
    "np.savez('array.npz', array_1, array_2)\n",
    "np.load('my_array.npy')\n",
    "\n",
    "# Saving & Loading Text Files\n",
    "np.savetxt(\"myarray.txt\", array_2, delimiter=\"\\t\")\n",
    "np.loadtxt(\"myarray.txt\")"
   ]
  },
  {
   "cell_type": "code",
   "execution_count": 12,
   "id": "94988c38",
   "metadata": {},
   "outputs": [
    {
     "data": {
      "text/plain": [
       "'C:\\\\Users\\\\Babak\\\\slide'"
      ]
     },
     "execution_count": 12,
     "metadata": {},
     "output_type": "execute_result"
    }
   ],
   "source": [
    "os.getcwd()"
   ]
  },
  {
   "cell_type": "code",
   "execution_count": 13,
   "id": "7eddfc7f",
   "metadata": {},
   "outputs": [],
   "source": [
    "## Data Type\n",
    "#np.int64 # Signed 64-bit integer types\n",
    "#np.float32 # Standard double-precision floating point\n",
    "#np.bool # Boolean type storing TRUE and FALSE values\n",
    "#np.string_ # Fixed-length string type\n",
    "#np.unicode_ # Fixed-length unicode type"
   ]
  },
  {
   "cell_type": "markdown",
   "id": "28ae754d",
   "metadata": {},
   "source": [
    "#### Inspecting Your Array"
   ]
  },
  {
   "cell_type": "code",
   "execution_count": 14,
   "id": "e166924a",
   "metadata": {},
   "outputs": [
    {
     "data": {
      "text/plain": [
       "array([[2, 1, 4],\n",
       "       [3, 2, 7]])"
      ]
     },
     "execution_count": 14,
     "metadata": {},
     "output_type": "execute_result"
    }
   ],
   "source": [
    "array_2.shape # Array dimensions\n",
    "len(array_2) # Length of array\n",
    "array_2.ndim # Number of array dimensions\n",
    "array_2.size # Number of array elements\n",
    "array_2.dtype # Data type of array elements\n",
    "array_2.dtype.name # Name of data type\n",
    "array_2.astype(int) # Convert an array to a different type"
   ]
  },
  {
   "cell_type": "code",
   "execution_count": 18,
   "id": "9502778c",
   "metadata": {},
   "outputs": [
    {
     "name": "stdout",
     "output_type": "stream",
     "text": [
      "Data-type of the array's elements.\n",
      "\n",
      ".. warning::\n",
      "\n",
      "    Setting ``arr.dtype`` is discouraged and may be deprecated in the\n",
      "    future.  Setting will replace the ``dtype`` without modifying the\n",
      "    memory (see also `ndarray.view` and `ndarray.astype`).\n",
      "\n",
      "Parameters\n",
      "----------\n",
      "None\n",
      "\n",
      "Returns\n",
      "-------\n",
      "d : numpy dtype object\n",
      "\n",
      "See Also\n",
      "--------\n",
      "ndarray.astype : Cast the values contained in the array to a new data-type.\n",
      "ndarray.view : Create a view of the same data but a different data-type.\n",
      "numpy.dtype\n",
      "\n",
      "Examples\n",
      "--------\n",
      ">>> x\n",
      "array([[0, 1],\n",
      "       [2, 3]])\n",
      ">>> x.dtype\n",
      "dtype('int32')\n",
      ">>> type(x.dtype)\n",
      "<type 'numpy.dtype'>\n"
     ]
    }
   ],
   "source": [
    "## Asking For Help\n",
    "np.info(np.ndarray.dtype)"
   ]
  },
  {
   "cell_type": "code",
   "execution_count": 19,
   "id": "34d91e74",
   "metadata": {},
   "outputs": [
    {
     "data": {
      "text/plain": [
       "array([[2, 1, 4],\n",
       "       [3, 2, 7]])"
      ]
     },
     "execution_count": 19,
     "metadata": {},
     "output_type": "execute_result"
    }
   ],
   "source": [
    "array_2.astype(int)"
   ]
  },
  {
   "cell_type": "markdown",
   "id": "6cf6e8d3",
   "metadata": {},
   "source": [
    "#### Array Mathematics\n",
    "#### Arithmetic Operations"
   ]
  },
  {
   "cell_type": "code",
   "execution_count": 20,
   "id": "3ba10cbb",
   "metadata": {},
   "outputs": [
    {
     "data": {
      "text/plain": [
       "18.0"
      ]
     },
     "execution_count": 20,
     "metadata": {},
     "output_type": "execute_result"
    }
   ],
   "source": [
    "array_1 - array_2 # Subtraction: np.subtract(array_1,array_2)\n",
    "array_2 + array_1 # Addition: np.add(array_2,array_1)\n",
    "array_1 / array_2 # Division: np.divide(array_1,array_2)\n",
    "array_1 * array_2 # Multiplication: np.multiply(array_1,array_2)\n",
    "np.log(array_1) # Element-wise natural logarithm\n",
    "np.inner(array_1,array_3) # Dot product"
   ]
  },
  {
   "cell_type": "code",
   "execution_count": 17,
   "id": "b3dd253b",
   "metadata": {},
   "outputs": [
    {
     "data": {
      "text/plain": [
       "array([1.60943791, 0.        , 0.69314718])"
      ]
     },
     "execution_count": 17,
     "metadata": {},
     "output_type": "execute_result"
    }
   ],
   "source": [
    "np.log(array_1)"
   ]
  },
  {
   "cell_type": "code",
   "execution_count": 21,
   "id": "e70a90ab",
   "metadata": {},
   "outputs": [
    {
     "data": {
      "text/plain": [
       "False"
      ]
     },
     "execution_count": 21,
     "metadata": {},
     "output_type": "execute_result"
    }
   ],
   "source": [
    "# Comparison\n",
    "array_1 == array_2 # Element-wise comparison\n",
    "array_1 < 2 # Element-wise comparison\n",
    "np.array_equal(array_1, array_2) # Array-wise comparison\n",
    "np.array_equal(array_1, array_3) # Array-wise comparison"
   ]
  },
  {
   "cell_type": "code",
   "execution_count": 22,
   "id": "9309edca",
   "metadata": {},
   "outputs": [
    {
     "data": {
      "text/plain": [
       "1.9238993967691993"
      ]
     },
     "execution_count": 22,
     "metadata": {},
     "output_type": "execute_result"
    }
   ],
   "source": [
    "# Aggregate Functions\n",
    "array_1.sum() # Array-wise sum\n",
    "array_1.min() # Array-wise minimum value\n",
    "array_2.max(axis=0) # Maximum value of an array row\n",
    "array_2.cumsum(axis=1) # Cumulative sum of the elements\n",
    "array_1.mean() # Mean\n",
    "np.corrcoef(array_1,array_3) # Correlation coefficient\n",
    "np.corrcoef(array_2) # Correlation coefficient\n",
    "np.std(array_2) # Standard deviation"
   ]
  },
  {
   "cell_type": "code",
   "execution_count": 23,
   "id": "fec36cc2",
   "metadata": {},
   "outputs": [
    {
     "data": {
      "text/plain": [
       "1.9238993967691993"
      ]
     },
     "execution_count": 23,
     "metadata": {},
     "output_type": "execute_result"
    }
   ],
   "source": [
    "np.std(array_2)"
   ]
  },
  {
   "cell_type": "code",
   "execution_count": 24,
   "id": "bbe60b8f",
   "metadata": {},
   "outputs": [
    {
     "data": {
      "text/plain": [
       "array([[ 2.3,  3.3,  7.3],\n",
       "       [ 3. ,  5. , 12. ]])"
      ]
     },
     "execution_count": 24,
     "metadata": {},
     "output_type": "execute_result"
    }
   ],
   "source": [
    "array_2.cumsum(axis=1)"
   ]
  },
  {
   "cell_type": "code",
   "execution_count": 25,
   "id": "e1048a60",
   "metadata": {},
   "outputs": [
    {
     "data": {
      "text/plain": [
       "array([5, 2, 2])"
      ]
     },
     "execution_count": 25,
     "metadata": {},
     "output_type": "execute_result"
    }
   ],
   "source": [
    "## Copying Arrays\n",
    "array_4=array_1.view() # Create a view of the array with the same data\n",
    "array_4[1]=10\n",
    "array_1\n",
    "array_4[1]=2\n",
    "np.copy(array_1) # Create a copy of the array"
   ]
  },
  {
   "cell_type": "code",
   "execution_count": 26,
   "id": "3d432970",
   "metadata": {},
   "outputs": [
    {
     "data": {
      "text/plain": [
       "array([5, 2, 2])"
      ]
     },
     "execution_count": 26,
     "metadata": {},
     "output_type": "execute_result"
    }
   ],
   "source": [
    "array_1"
   ]
  },
  {
   "cell_type": "code",
   "execution_count": 27,
   "id": "885beff0",
   "metadata": {},
   "outputs": [],
   "source": [
    "## Sorting Arrays\n",
    "array_3.sort() # Sort an array"
   ]
  },
  {
   "cell_type": "code",
   "execution_count": 28,
   "id": "bd3e0ac5",
   "metadata": {},
   "outputs": [
    {
     "data": {
      "text/plain": [
       "array([3. , 1. , 7. , 2.3])"
      ]
     },
     "execution_count": 28,
     "metadata": {},
     "output_type": "execute_result"
    }
   ],
   "source": [
    "## Subsetting, Slicing, Indexing\n",
    "# Subsetting\n",
    "array_1[2] # Select the element at the 2nd index\n",
    "array_2[1,2] # Select the element at row 1 column 2, equivalent to array_2[1][2]\n",
    "# Slicing\n",
    "array_1[0:2] # Select items at index 0 and 1\n",
    "array_2[0:2,1] # Select items at rows 0 and 1 in column 1\n",
    "array_2[:1] # Select all items at row 0\n",
    "# Boolean Indexing\n",
    "array_1[array_1<2] # Select elements from a less than 2\n",
    "# Fancy Indexing\n",
    "array_2[[1, 0, 1, 0],[0, 1, 2, 0]] # Select elements (1,0),(0,1),(1,2) and (0,0)"
   ]
  },
  {
   "cell_type": "code",
   "execution_count": 29,
   "id": "eeaef20d",
   "metadata": {},
   "outputs": [
    {
     "data": {
      "text/plain": [
       "array([[2.3, 1. , 4. ],\n",
       "       [3. , 2. , 7. ]])"
      ]
     },
     "execution_count": 29,
     "metadata": {},
     "output_type": "execute_result"
    }
   ],
   "source": [
    "array_2"
   ]
  },
  {
   "cell_type": "code",
   "execution_count": 30,
   "id": "fc5d2123",
   "metadata": {},
   "outputs": [
    {
     "data": {
      "text/plain": [
       "array([3. , 1. , 7. , 2.3])"
      ]
     },
     "execution_count": 30,
     "metadata": {},
     "output_type": "execute_result"
    }
   ],
   "source": [
    "array_2[[1, 0, 1, 0],[0, 1, 2, 0]]"
   ]
  },
  {
   "cell_type": "code",
   "execution_count": 31,
   "id": "02ff4a4e",
   "metadata": {},
   "outputs": [
    {
     "data": {
      "text/plain": [
       "array([5, 2])"
      ]
     },
     "execution_count": 31,
     "metadata": {},
     "output_type": "execute_result"
    }
   ],
   "source": [
    "## Array Manipulation\n",
    "# Transposing Array\n",
    "i = np.transpose(array_2) # Permute array dimensions\n",
    "i.T # Permute array dimensions\n",
    "# Changing Array Shape\n",
    "array_2.ravel() # Flatten the array\n",
    "np.array([9,7,4,1,3,8]).reshape(2,3) # Reshape, but don’t change data\n",
    "# Adding/Removing Elements\n",
    "np.append(array_1,array_2) # Append items to an array\n",
    "np.insert(array_1, 1, 5) # Insert items in an array\n",
    "np.delete(array_1,[1]) # Delete items from an array"
   ]
  },
  {
   "cell_type": "code",
   "execution_count": 32,
   "id": "21301b80",
   "metadata": {},
   "outputs": [
    {
     "data": {
      "text/plain": [
       "array([5, 2])"
      ]
     },
     "execution_count": 32,
     "metadata": {},
     "output_type": "execute_result"
    }
   ],
   "source": [
    "np.delete(array_1,[1])"
   ]
  },
  {
   "cell_type": "code",
   "execution_count": 33,
   "id": "18b409c0",
   "metadata": {},
   "outputs": [],
   "source": [
    "############################################\n",
    "########## SciPy - Linear Algebra ##########\n",
    "############################################\n",
    "# Sparse matrix"
   ]
  },
  {
   "cell_type": "code",
   "execution_count": null,
   "id": "3395bb90",
   "metadata": {},
   "outputs": [],
   "source": []
  }
 ],
 "metadata": {
  "kernelspec": {
   "display_name": "Python 3 (ipykernel)",
   "language": "python",
   "name": "python3"
  },
  "language_info": {
   "codemirror_mode": {
    "name": "ipython",
    "version": 3
   },
   "file_extension": ".py",
   "mimetype": "text/x-python",
   "name": "python",
   "nbconvert_exporter": "python",
   "pygments_lexer": "ipython3",
   "version": "3.10.9"
  }
 },
 "nbformat": 4,
 "nbformat_minor": 5
}
