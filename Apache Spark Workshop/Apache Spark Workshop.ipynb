{
 "cells": [
  {
   "cell_type": "code",
   "execution_count": 1,
   "id": "7c30f5f3-7922-40c9-b36a-7d6f580480f9",
   "metadata": {},
   "outputs": [],
   "source": [
    "import pyspark.sql.functions as F\n",
    "from pyspark.sql.functions import udf,count,countDistinct\n",
    "from datetime import datetime, timedelta\n",
    "from urllib.parse import unquote\n",
    "import sqlalchemy as sa\n",
    "import pandas as pd\n",
    "from pyspark.sql.types import StructType, StructField, IntegerType, StringType\n",
    "from hashids import Hashids\n",
    "import pyspark.sql.types as T\n",
    "from pyspark.sql.functions import sum as s\n",
    "from pyspark.sql import SparkSession\n",
    "import sys\n",
    "from pyspark.sql.functions import substring\n",
    "from pyspark.sql import Window"
   ]
  },
  {
   "cell_type": "code",
   "execution_count": 2,
   "id": "223ad282-6604-4cea-b051-64be576468e0",
   "metadata": {},
   "outputs": [],
   "source": [
    "spark = SparkSession.builder.appName(\"test\").getOrCreate()"
   ]
  },
  {
   "cell_type": "markdown",
   "id": "73bc51e2-1aee-43bc-91d8-ceb451bb1dfb",
   "metadata": {},
   "source": [
    "# Read Data"
   ]
  },
  {
   "cell_type": "code",
   "execution_count": 3,
   "id": "a31f0923-7d1d-4e24-a2e7-1bfc20c78f6c",
   "metadata": {},
   "outputs": [
    {
     "name": "stdout",
     "output_type": "stream",
     "text": [
      "2023-01-02 22:03:33.703169\n",
      "2023-01-01 22:03:45.298553\n"
     ]
    }
   ],
   "source": [
    "#Read SCV file in here"
   ]
  },
  {
   "cell_type": "code",
   "execution_count": 4,
   "id": "be671ac7-eb2e-4cd3-9c44-e7b85350cee6",
   "metadata": {},
   "outputs": [
    {
     "name": "stdout",
     "output_type": "stream",
     "text": [
      "+----------+-------------------+--------------------+--------------------+-----------------+--------------------+------+-----------+--------------------+--------------------+---------+\n",
      "|    bucket|              time1|            vendorid|                udid|           source|              medium|action|actionparam|              userid|          vendorcode|supertype|\n",
      "+----------+-------------------+--------------------+--------------------+-----------------+--------------------+------+-----------+--------------------+--------------------+---------+\n",
      "|2023-01-02|2023-01-02 01:16:00|cf83e1357eefb8bdf...|d2bd98ed2cda72c42...|        home_page|          categories| click|          7|4d02d3c5ef2cd6ba7...|cf83e1357eefb8bdf...|        1|\n",
      "|2023-01-02|2023-01-02 01:16:30|cf83e1357eefb8bdf...|e91098d52a8176993...|restaurant_detail|              render|  load|           |9f231ce7826cad2a4...|c54b50898369af54c...|         |\n",
      "|2023-01-02|2023-01-02 01:17:00|cf83e1357eefb8bdf...|1b1a7b3475af4e41b...|restaurant_detail|              render|  load|           |f11f8dcbc46c725da...|d007bb970d4075b8a...|         |\n",
      "|2023-01-02|2023-01-02 01:17:22|cf83e1357eefb8bdf...|3b8b552c2a5e3510a...|restaurant_detail|              render|  load|           |e481876de010445d2...|7750ef50388ab748f...|         |\n",
      "|2023-01-02|2023-01-02 01:17:32|cf83e1357eefb8bdf...|e78d0ad2ff02f7607...|restaurant_detail|              render|  load|           |cf83e1357eefb8bdf...|22a08cfdd763cd96e...|         |\n",
      "|2023-01-02|2023-01-02 01:17:42|cf83e1357eefb8bdf...|60f0fdb4af77df4e5...|restaurant_detail|              render|  load|           |1f7c140e984c1584a...|1ad95b9cb8d4e5d2f...|         |\n",
      "|2023-01-02|2023-01-02 01:17:52|cf83e1357eefb8bdf...|2ccc35e7cfb77d4d4...|restaurant_detail|              render|  load|           |e8260bcd572abe0cd...|63e1e2b88863b2d0c...|         |\n",
      "|2023-01-02|2023-01-02 01:18:02|cf83e1357eefb8bdf...|1fe9b8b353114ad19...|restaurant_detail|              render|  load|           |6bc55129e041e2dd8...|4de8bad7a9f0b813b...|         |\n",
      "|2023-01-02|2023-01-02 01:18:13|cf83e1357eefb8bdf...|b720d279e586ff9a7...|restaurant_detail|              render|  load|           |3fd152c9f4bbf8d3d...|a83ddf9ad04bad2bd...|         |\n",
      "|2023-01-02|2023-01-02 01:18:35|cf83e1357eefb8bdf...|425bd6fa79ea5e644...|restaurant_detail|              render|  load|           |f4e1e3dfe507b94b7...|b95ff6d6076c8b996...|         |\n",
      "|2023-01-02|2023-01-02 01:18:58|cf83e1357eefb8bdf...|87c7e2f6837f58697...|restaurant_detail|              render|  load|           |cf83e1357eefb8bdf...|701f536027a9c2ba8...|         |\n",
      "|2023-01-02|2023-01-02 01:18:58|cf83e1357eefb8bdf...|87c7e2f6837f58697...|restaurant_detail|              render|  load|           |cf83e1357eefb8bdf...|701f536027a9c2ba8...|         |\n",
      "|2023-01-02|2023-01-02 01:19:10|cf83e1357eefb8bdf...|4eaaf5f87fec6a743...|restaurant_detail|              render|  load|           |2e49dc246d7a311ff...|eb467a5f2744adc5e...|         |\n",
      "|2023-01-02|2023-01-02 01:19:51|cf83e1357eefb8bdf...|3cc1378663383d3eb...|        home_page|              render|  load|           |708e2e6e7d428bb61...|cf83e1357eefb8bdf...|         |\n",
      "|2023-01-02|2023-01-02 01:19:51|cf83e1357eefb8bdf...|3cc1378663383d3eb...|        home_page|   services_see_more| click|          1|708e2e6e7d428bb61...|cf83e1357eefb8bdf...|         |\n",
      "|2023-01-02|2023-01-02 01:20:31|cf83e1357eefb8bdf...|eb09d984d9c661b7e...|        home_page|services_see_more...| click|           |dee3fdf1d1b602f00...|cf83e1357eefb8bdf...|         |\n",
      "|2023-01-02|2023-01-02 01:21:51|cf83e1357eefb8bdf...|7170b9318130d5a9b...|restaurant_detail|              render|  load|           |008d61c759e31679a...|bbdb9a527cb96c930...|         |\n",
      "|2023-01-02|2023-01-02 01:22:02|cf83e1357eefb8bdf...|ed9ea6b2ff332132a...|restaurant_detail|              render|  load|           |8679073505fb706da...|3569fb2fc6c45e3b2...|         |\n",
      "|2023-01-02|2023-01-02 01:23:30|cf83e1357eefb8bdf...|e7f5cb4e46e69b44a...|restaurant_detail|              render|  load|           |d9cfb2cdc3976583b...|4a8943b786ee8b5ef...|         |\n",
      "|2023-01-02|2023-01-02 01:23:52|cf83e1357eefb8bdf...|f6b49b98f5c942bed...|restaurant_detail|              render|  load|           |48f2d97fbfece42ad...|35b93d9e8be803307...|         |\n",
      "+----------+-------------------+--------------------+--------------------+-----------------+--------------------+------+-----------+--------------------+--------------------+---------+\n",
      "only showing top 20 rows\n",
      "\n"
     ]
    }
   ],
   "source": [
    "final_df.show()"
   ]
  },
  {
   "cell_type": "code",
   "execution_count": 24,
   "id": "15a1b131-881d-49a6-96cb-3c63ae5927b7",
   "metadata": {},
   "outputs": [
    {
     "data": {
      "text/plain": [
       "[Row(bucket='2022-11-20', time1='2022-11-20 00:19:14', vendorid='cf83e1357eefb8bdf1542850d66d8007d620e4050b5715dc83f4a921d36ce9ce47d0d13c5d85f2b0ff8318d2877eec2f63b931bd47417a81a538327af927da3e', udid='104d83082ccb6fa71c30f6ad8e4d42fca003122e891655cf65884d3aab36b16a103b79f5b12fcd706f687e7efbfa1079333f26b03c7a576be5d56b7bd80a27cc', source='home_page', medium='render', action='load', actionparam='', userid='a12e5525cd89ca46df4b188e72f3bca4a31d542ec011e54ae0bb40a68b8f31c38b032af1a614340dadbbf629a0a3cff9ade0a3da7956de02358f7916c8229e82', vendorcode='cf83e1357eefb8bdf1542850d66d8007d620e4050b5715dc83f4a921d36ce9ce47d0d13c5d85f2b0ff8318d2877eec2f63b931bd47417a81a538327af927da3e', supertype=''),\n",
       " Row(bucket='2022-11-20', time1='2022-11-20 00:19:29', vendorid='cf83e1357eefb8bdf1542850d66d8007d620e4050b5715dc83f4a921d36ce9ce47d0d13c5d85f2b0ff8318d2877eec2f63b931bd47417a81a538327af927da3e', udid='cf953be16313b96e355efab0b7b69a4d4fc8fec477a21ada3475a18fd1aa7d8f45b5f92732cc2d7c0ada590f18cbaecbfbd92510998d03c61ec8476b9762b2da', source='restaurant_detail', medium='render', action='load', actionparam='', userid='1fd106576a97a9805f9879c6ceee276e01cb017daf171e1d84eb8e74e5dfd63d2eaffc0e6c4cd646f420843b4faf6dcc656ac1ca2fc15d18b0bf16b7b91a2008', vendorcode='2d2c5f1026ce8d44b1bd0719181143d8da733f675add0a7fded21f46e9c5d5de521eb60de666977c5bafe89d1948436c17decbc7d6f409b2f3beb734af33df41', supertype='')]"
      ]
     },
     "execution_count": 24,
     "metadata": {},
     "output_type": "execute_result"
    }
   ],
   "source": [
    "final_df.head(2)"
   ]
  },
  {
   "cell_type": "markdown",
   "id": "982ac27c-8116-4311-b905-c4899bc210e0",
   "metadata": {},
   "source": [
    "# take a look in Structuredf"
   ]
  },
  {
   "cell_type": "code",
   "execution_count": 5,
   "id": "fae71a5b-3758-4bb3-a635-72f565397cbd",
   "metadata": {},
   "outputs": [
    {
     "name": "stdout",
     "output_type": "stream",
     "text": [
      "root\n",
      " |-- bucket: string (nullable = true)\n",
      " |-- time1: string (nullable = true)\n",
      " |-- vendorid: string (nullable = true)\n",
      " |-- udid: string (nullable = true)\n",
      " |-- source: string (nullable = true)\n",
      " |-- medium: string (nullable = true)\n",
      " |-- action: string (nullable = true)\n",
      " |-- actionparam: string (nullable = true)\n",
      " |-- userid: string (nullable = true)\n",
      " |-- vendorcode: string (nullable = true)\n",
      " |-- supertype: string (nullable = true)\n",
      "\n"
     ]
    }
   ],
   "source": [
    "final_df.printSchema()"
   ]
  },
  {
   "cell_type": "code",
   "execution_count": 6,
   "id": "6531877f-7c02-46cd-9fdb-3d332910e344",
   "metadata": {},
   "outputs": [
    {
     "name": "stdout",
     "output_type": "stream",
     "text": [
      "+-----------------+\n",
      "|source           |\n",
      "+-----------------+\n",
      "|restaurant_detail|\n",
      "|home_page        |\n",
      "+-----------------+\n",
      "\n"
     ]
    }
   ],
   "source": [
    "final_df.select(\"source\").distinct().show(truncate = False)"
   ]
  },
  {
   "cell_type": "code",
   "execution_count": 7,
   "id": "d140f830-a9c5-481c-8bb6-730be359c9b3",
   "metadata": {},
   "outputs": [
    {
     "name": "stdout",
     "output_type": "stream",
     "text": [
      "+---------------------+\n",
      "|medium               |\n",
      "+---------------------+\n",
      "|render               |\n",
      "|categories           |\n",
      "|services_see_more    |\n",
      "|services             |\n",
      "|services_see_more_btn|\n",
      "+---------------------+\n",
      "\n"
     ]
    }
   ],
   "source": [
    "final_df.select(\"medium\").distinct().show(truncate = False)"
   ]
  },
  {
   "cell_type": "code",
   "execution_count": 8,
   "id": "f29f0b78-2258-43a7-9652-25918a138b41",
   "metadata": {},
   "outputs": [
    {
     "name": "stdout",
     "output_type": "stream",
     "text": [
      "+------+\n",
      "|action|\n",
      "+------+\n",
      "|load  |\n",
      "|click |\n",
      "+------+\n",
      "\n"
     ]
    }
   ],
   "source": [
    "final_df.select(\"action\").distinct().show(truncate = False)"
   ]
  },
  {
   "cell_type": "code",
   "execution_count": 9,
   "id": "e438f044-a936-4d4c-9305-e73b9625de72",
   "metadata": {},
   "outputs": [
    {
     "name": "stdout",
     "output_type": "stream",
     "text": [
      "+---------+\n",
      "|supertype|\n",
      "+---------+\n",
      "|11       |\n",
      "|3        |\n",
      "|6        |\n",
      "|1        |\n",
      "|4        |\n",
      "|         |\n",
      "|2        |\n",
      "|8        |\n",
      "|5        |\n",
      "|21       |\n",
      "|22       |\n",
      "|9        |\n",
      "|7        |\n",
      "+---------+\n",
      "\n"
     ]
    }
   ],
   "source": [
    "final_df.select(\"supertype\").distinct().show(truncate = False)"
   ]
  },
  {
   "cell_type": "markdown",
   "id": "69c20b7e-43d4-4ad9-b36c-30eef285bf35",
   "metadata": {},
   "source": [
    "# Measures"
   ]
  },
  {
   "cell_type": "code",
   "execution_count": 25,
   "id": "16c4f1b7-e0ba-47fe-8eb0-9df1a07647b0",
   "metadata": {},
   "outputs": [],
   "source": [
    "enteredToHomePage = final_df.filter(\"action = 'load' and medium = 'render' and source = 'home_page'\").groupBy(\"bucket\")\\\n",
    "        .agg(countDistinct('userid').alias(\"distinctHomePageLoad\"),count('userid').alias(\"HomePageLoad\"))"
   ]
  },
  {
   "cell_type": "code",
   "execution_count": 26,
   "id": "ad1d1fe8-8d3b-49b2-baab-d9734f26888a",
   "metadata": {},
   "outputs": [
    {
     "name": "stdout",
     "output_type": "stream",
     "text": [
      "+----------+--------------------+------------+\n",
      "|    bucket|distinctHomePageLoad|HomePageLoad|\n",
      "+----------+--------------------+------------+\n",
      "|2022-11-19|              295699|      843730|\n",
      "|2022-11-20|              204689|      553274|\n",
      "+----------+--------------------+------------+\n",
      "\n"
     ]
    }
   ],
   "source": [
    "enteredToHomePage.show()"
   ]
  },
  {
   "cell_type": "code",
   "execution_count": 46,
   "id": "f552e9c0-2b84-452f-9db1-41e9e0ce3962",
   "metadata": {},
   "outputs": [],
   "source": [
    "entered_to_list = final_df.filter(\"\"\"action = 'click' and source = 'home_page' \n",
    "                                   and medium in ('services', 'services_see_more', 'services_see_more_btn', 'services_scroll') and actionParam !='' \"\"\").groupBy(\"bucket\",\"actionParam\")\\\n",
    "        .agg(countDistinct('userid').alias(\"distinctGoToService\"),count('userid').alias(\"GoToService\"))"
   ]
  },
  {
   "cell_type": "code",
   "execution_count": 47,
   "id": "fdb7b379-d46c-4593-9a41-f853b71feff5",
   "metadata": {},
   "outputs": [
    {
     "name": "stdout",
     "output_type": "stream",
     "text": [
      "+----------+-----------+-------------------+-----------+\n",
      "|    bucket|actionParam|distinctGoToService|GoToService|\n",
      "+----------+-----------+-------------------+-----------+\n",
      "|2022-11-20|          4|              22588|      53355|\n",
      "|2022-11-19|          8|               5703|       8239|\n",
      "|2022-11-19|         11|              10366|      16029|\n",
      "|2022-11-20|          8|               3445|       4774|\n",
      "|2022-11-19|          4|              32288|      70847|\n",
      "|2022-11-19|         21|                702|        979|\n",
      "|2022-11-19|         23|                501|        616|\n",
      "|2022-11-20|         21|                436|        644|\n",
      "|2022-11-19|         18|               4010|       7112|\n",
      "|2022-11-20|         24|                352|        425|\n",
      "|2022-11-20|          6|               8278|      12340|\n",
      "|2022-11-20|         11|               7128|      10694|\n",
      "|2022-11-20|          2|               8366|      12098|\n",
      "|2022-11-20|          9|               1006|       1173|\n",
      "|2022-11-20|         22|                394|        483|\n",
      "|2022-11-19|         24|                579|        715|\n",
      "|2022-11-20|          7|               1131|       1529|\n",
      "|2022-11-19|          1|              68012|     113483|\n",
      "|2022-11-19|          2|              12213|      17947|\n",
      "|2022-11-19|         22|                606|        751|\n",
      "+----------+-----------+-------------------+-----------+\n",
      "only showing top 20 rows\n",
      "\n"
     ]
    }
   ],
   "source": [
    "entered_to_list.show()"
   ]
  },
  {
   "cell_type": "code",
   "execution_count": 48,
   "id": "b11eba88-1d4d-407a-bc7d-308aefb1e94c",
   "metadata": {},
   "outputs": [
    {
     "name": "stdout",
     "output_type": "stream",
     "text": [
      "+----------+---------+--------------------+------------------+----------+\n",
      "|    bucket|superType|          vendorCode|distinctVendorView|VendorView|\n",
      "+----------+---------+--------------------+------------------+----------+\n",
      "|2022-11-20|        1|320afa1765b50edba...|                 2|         9|\n",
      "|2022-11-20|        1|e7e84e3e5953046f6...|                 2|         2|\n",
      "|2022-11-20|        1|b22a679ead21bef83...|                 1|         5|\n",
      "|2022-11-20|        1|843a14078c8df658c...|                 2|         3|\n",
      "|2022-11-19|        6|d20358fcd1b1611e1...|                 4|         6|\n",
      "|2022-11-20|        1|a560916f75cecaa61...|                 2|         4|\n",
      "|2022-11-20|        1|d75ab4a5ab9d16a67...|                 2|         3|\n",
      "|2022-11-20|        1|8e4dfb9d7ebe24d6c...|                 4|         6|\n",
      "|2022-11-20|        1|25d4f03b3ff9a68d9...|                 2|         3|\n",
      "|2022-11-20|        1|5052341368be4addf...|                 1|         3|\n",
      "|2022-11-19|        1|7da4247262f7dd80e...|                 2|         5|\n",
      "|2022-11-20|        1|3f5a2ecf256fb6583...|                 1|         1|\n",
      "|2022-11-19|        1|e430deed3582bc38d...|                 2|         3|\n",
      "|2022-11-19|        1|c55c7758436361883...|                 4|        12|\n",
      "|2022-11-19|        1|6e73182dab1c3b9d2...|                 1|         1|\n",
      "|2022-11-20|        1|5241f0a6d3cc4d40c...|                 8|        31|\n",
      "|2022-11-19|        1|2daa3e85341df2e4e...|                 2|         2|\n",
      "|2022-11-19|        1|194d749a844fe47c0...|                 1|         1|\n",
      "|2022-11-20|        5|734bce715b06cb369...|                 1|         1|\n",
      "|2022-11-19|        1|7e0360ee44e9a448c...|                 5|        10|\n",
      "+----------+---------+--------------------+------------------+----------+\n",
      "only showing top 20 rows\n",
      "\n"
     ]
    }
   ],
   "source": [
    "final_df.filter(\"\"\"source = 'restaurant_detail' \n",
    "                and medium = 'render' and vendorCode != '' and superType !=''\"\"\").groupBy(\"bucket\",\"superType\",\"vendorCode\")\\\n",
    "        .agg(countDistinct('userid').alias(\"distinctVendorView\"),count('userid').alias(\"VendorView\")).show()"
   ]
  },
  {
   "cell_type": "code",
   "execution_count": null,
   "id": "b56af332-e83f-453c-8d41-9cf6ad31a42e",
   "metadata": {},
   "outputs": [],
   "source": []
  }
 ],
 "metadata": {
  "kernelspec": {
   "display_name": "PySpark",
   "language": "python",
   "name": "pyspark"
  },
  "language_info": {
   "codemirror_mode": {
    "name": "ipython",
    "version": 3
   },
   "file_extension": ".py",
   "mimetype": "text/x-python",
   "name": "python",
   "nbconvert_exporter": "python",
   "pygments_lexer": "ipython3",
   "version": "3.6.8"
  }
 },
 "nbformat": 4,
 "nbformat_minor": 5
}
